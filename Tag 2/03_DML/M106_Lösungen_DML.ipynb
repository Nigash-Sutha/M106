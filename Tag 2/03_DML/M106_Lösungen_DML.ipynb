{
    "metadata": {
        "kernelspec": {
            "name": "SQL",
            "display_name": "SQL",
            "language": "sql"
        },
        "language_info": {
            "name": "sql",
            "version": ""
        }
    },
    "nbformat_minor": 2,
    "nbformat": 4,
    "cells": [
        {
            "cell_type": "markdown",
            "source": [
                "# Übungsaufgaben DML\n",
                "\n",
                "Der folgende Block enthält Übungsaufgaben zu den Kapiteln INSERT, UPDATE, DELETE und CASCADE."
            ],
            "metadata": {
                "azdata_cell_guid": "08cc9dc5-0641-4d1e-b1e2-a8ecc9035bf9"
            },
            "attachments": {}
        },
        {
            "cell_type": "markdown",
            "source": [
                "## INSERT\n",
                "\n",
                "Führe diese Aufgaben aus, nachdem du den INSERT-Block bearbeitet hast."
            ],
            "metadata": {
                "azdata_cell_guid": "b0183c7a-9550-49ff-bf35-b4737c8b0f2b"
            },
            "attachments": {}
        },
        {
            "cell_type": "markdown",
            "source": [
                "**1.1** Erstelle eine neue Kundin in der Tabelle _verkauf.kunden_ mit folgenden Attributen:\n",
                "\n",
                "- Vorname: Barbara\n",
                "- Nachname: Traufer"
            ],
            "metadata": {
                "azdata_cell_guid": "06971469-2db3-46ec-8015-f549de96feaf"
            },
            "attachments": {}
        },
        {
            "cell_type": "code",
            "source": [
                "INSERT INTO verkauf.kunden\n",
                "VALUES ('Barbara','Traufer');"
            ],
            "metadata": {
                "azdata_cell_guid": "275d6686-53f4-4b42-a0f7-332964b4a6bf",
                "language": "sql",
                "tags": []
            },
            "outputs": [],
            "execution_count": null
        },
        {
            "cell_type": "markdown",
            "source": [
                "**1.2** Füge drei neue Produkte in der dafür vorgesehenen Tabelle hinzu. Den Produktnamen, den Preis sowie das Energielabel kannst du jeweils selber bestimmen."
            ],
            "metadata": {
                "azdata_cell_guid": "20439388-ed53-4ea3-8db3-eb199da5496d"
            },
            "attachments": {}
        },
        {
            "cell_type": "code",
            "source": [
                "INSERT INTO verkauf.produkte VALUES \n",
                "('Zahnbürstenkopf',23.95,NULL),\n",
                "('Druckerpatrone schwarz',26,NULL),\n",
                "('Rasenmäher',129,'D');"
            ],
            "metadata": {
                "azdata_cell_guid": "fd6350bf-489b-4828-a2d7-42d50b44adf0",
                "language": "sql"
            },
            "outputs": [],
            "execution_count": null
        },
        {
            "cell_type": "markdown",
            "source": [
                "**1.3** Erstelle zwei neue Einträge in der Tabelle _verkauf.bestellungen_, welche zur oben neu erstellten Kundin gehören. Das Bestelldatum kannst du bei beiden Bestellungen frei wählen."
            ],
            "metadata": {
                "azdata_cell_guid": "85468b54-75e1-4d31-925b-841e1acd8d35"
            },
            "attachments": {}
        },
        {
            "cell_type": "code",
            "source": [
                "INSERT INTO verkauf.bestellungen VALUES \n",
                "('05.06.2024 14:24:07',6),\n",
                "('17.11.2024 20:53:18',6);"
            ],
            "metadata": {
                "azdata_cell_guid": "d991a913-95d4-428e-b5c1-cacbd85b07ba",
                "language": "sql",
                "tags": []
            },
            "outputs": [],
            "execution_count": null
        },
        {
            "cell_type": "markdown",
            "source": [
                "## UPDATE\n",
                "\n",
                "Führe diese Aufgaben aus, nachdem du den UPDATE-Block bearbeitet hast."
            ],
            "metadata": {
                "azdata_cell_guid": "ea8ec5c1-83ad-4a18-9af0-bad7bdc1da01"
            },
            "attachments": {}
        },
        {
            "cell_type": "markdown",
            "source": [
                "**2.1** Die Kundin mit der Kundenid 3 wünscht, dass ihr Vorname in den Stammdaten von _unbekannt_ auf _Maria_ geändert wird. Bitte nimm diese Änderung vor."
            ],
            "metadata": {
                "azdata_cell_guid": "3da0c501-4455-4e9a-bfe9-7427927c5cce"
            },
            "attachments": {}
        },
        {
            "cell_type": "code",
            "source": [
                "UPDATE verkauf.kunden\n",
                "SET vorname = 'Maria'\n",
                "WHERE kundenid = 3 and vorname = 'unbekannt';"
            ],
            "metadata": {
                "azdata_cell_guid": "ab1d838f-c8fc-4028-9be1-4249214a879f",
                "language": "sql"
            },
            "outputs": [],
            "execution_count": null
        },
        {
            "cell_type": "markdown",
            "source": [
                "**2.2** Du erhältst den Auftrag, den Namen des Produktes mit der Id 2 auf _Zitruspresse_ zu ändern und im selben Zug auch gleich den Preis um CHF 10 zu erhöhen."
            ],
            "metadata": {
                "azdata_cell_guid": "d480e0fd-c53c-4c4a-96f9-8e2e75cac005"
            }
        },
        {
            "cell_type": "code",
            "source": [
                "UPDATE verkauf.produkte\n",
                "SET produktname = 'Zitruspresse', preis = preis + 10\n",
                "WHERE produktid = 2;"
            ],
            "metadata": {
                "azdata_cell_guid": "88c7b8a8-d3f0-48dc-bd02-e6342fb11159",
                "language": "sql"
            },
            "outputs": [],
            "execution_count": null
        },
        {
            "cell_type": "markdown",
            "source": [
                "## DELETE\n",
                "\n",
                "Führe diese Aufgaben aus, nachdem du den DELETE-Block bearbeitet hast."
            ],
            "metadata": {
                "azdata_cell_guid": "adef7123-c862-42ec-8ac1-f38f6755646c"
            },
            "attachments": {}
        },
        {
            "cell_type": "markdown",
            "source": [
                "**3.1** Du wirst von deinem Vorgesetzten aufgefordert, alle Bestellungen des Kunden _Bruno Moser_ zu löschen. Nimm bitte diese Mutation vor.\n",
                "**Wichtig**: Sei vorsichtig, dass nicht zu viele Daten gelöscht werden."
            ],
            "metadata": {
                "azdata_cell_guid": "e1ea77fb-6060-429b-97d6-0c22729bf16e"
            },
            "attachments": {}
        },
        {
            "cell_type": "code",
            "source": [
                "DELETE FROM verkauf.bestellungen\n",
                "WHERE kundenid = 4;"
            ],
            "metadata": {
                "azdata_cell_guid": "c245d7d8-a2c2-4364-ae6f-8693b5b933da",
                "language": "sql",
                "tags": []
            },
            "outputs": [],
            "execution_count": null
        },
        {
            "cell_type": "markdown",
            "source": [
                "**3.2** Angenommen, du wirst angewiesen die Kundin Barbara Traufer aus der Kunden-Tabelle zu löschen. Würde das Datenbanksystem diese Löschung zulassen? Was gibt es dabei zu beachten? Schreibe deine Überlegungen auf, ohne die Mutation vorzunehmen."
            ],
            "metadata": {
                "azdata_cell_guid": "02df35a7-a58f-49db-bf5f-c1f4d4480376"
            }
        },
        {
            "cell_type": "code",
            "source": [
                "/*\n",
                "Die Löschung würde durch das DBMS zugelassen, da auf dem verknüpften Fremdschlüssel in der Tabelle verkauf.bestellungen \n",
                "die Löschweitergabe aktiviert ist. Wäre diese Löschweitergabe nicht aktiviert, würde die Löschung nicht zugelassen, weil sonst die \n",
                "referentielle Integrität verletzt wäre.\n",
                "*/"
            ],
            "metadata": {
                "azdata_cell_guid": "76a41a66-0ace-41d8-81d0-bfb8bd90c65a",
                "language": "sql"
            },
            "outputs": [],
            "execution_count": null
        }
    ]
}