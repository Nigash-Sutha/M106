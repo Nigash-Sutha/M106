{
    "metadata": {
        "kernelspec": {
            "name": "SQL",
            "display_name": "SQL",
            "language": "sql"
        },
        "language_info": {
            "name": "sql",
            "version": ""
        }
    },
    "nbformat_minor": 2,
    "nbformat": 4,
    "cells": [
        {
            "cell_type": "code",
            "source": [
                "CREATE DATABASE demo_security;"
            ],
            "metadata": {
                "azdata_cell_guid": "e2ced57d-9913-4e05-947e-04461242d71d",
                "language": "sql"
            },
            "outputs": [
                {
                    "output_type": "display_data",
                    "data": {
                        "text/html": "Commands completed successfully."
                    },
                    "metadata": {}
                },
                {
                    "output_type": "display_data",
                    "data": {
                        "text/html": "Total execution time: 00:00:00.604"
                    },
                    "metadata": {}
                }
            ],
            "execution_count": 3
        },
        {
            "cell_type": "code",
            "source": [
                "-- SQL Server-Login erstellen\r\n",
                "USE master;\r\n",
                "CREATE LOGIN test_user\r\n",
                "WITH PASSWORD = 'passwort', CHECK_POLICY = OFF;\r\n",
                "\r\n",
                "-- Einem Login ein User zuordnen\r\n",
                "USE demo_security;\r\n",
                "CREATE USER test_user FOR LOGIN test_user;"
            ],
            "metadata": {
                "azdata_cell_guid": "c283407e-c203-43e0-97d7-6ed027566f9c",
                "language": "sql",
                "tags": []
            },
            "outputs": [
                {
                    "output_type": "error",
                    "evalue": "Msg 15025, Level 16, State 1, Line 3\r\nThe server principal 'test_user' already exists.",
                    "ename": "",
                    "traceback": []
                },
                {
                    "output_type": "display_data",
                    "data": {
                        "text/html": "Total execution time: 00:00:00.261"
                    },
                    "metadata": {}
                }
            ],
            "execution_count": 1
        },
        {
            "cell_type": "code",
            "source": [
                "-- Server Login löschen\r\n",
                "USE master\r\n",
                "DROP LOGIN test_user;\r\n",
                "\r\n",
                "-- Datenbank User löschen\r\n",
                "USE demo_security\r\n",
                "DROP USER test_user;"
            ],
            "metadata": {
                "azdata_cell_guid": "b0a59a15-cc14-4935-8f0a-c2d55114db1f",
                "language": "sql"
            },
            "outputs": [
                {
                    "output_type": "display_data",
                    "data": {
                        "text/html": "Commands completed successfully."
                    },
                    "metadata": {}
                },
                {
                    "output_type": "display_data",
                    "data": {
                        "text/html": "Total execution time: 00:00:00.103"
                    },
                    "metadata": {}
                }
            ],
            "execution_count": 3
        },
        {
            "cell_type": "code",
            "source": [
                ""
            ],
            "metadata": {
                "azdata_cell_guid": "5787cee1-c4f2-440b-b917-6851a46f260c",
                "language": "sql"
            },
            "outputs": [],
            "execution_count": null
        }
    ]
}