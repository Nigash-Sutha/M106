{
    "metadata": {
        "kernelspec": {
            "name": "SQL",
            "display_name": "SQL",
            "language": "sql"
        },
        "language_info": {
            "name": "sql",
            "version": ""
        }
    },
    "nbformat_minor": 2,
    "nbformat": 4,
    "cells": [
        {
            "cell_type": "markdown",
            "source": [
                "Aufgabe 1"
            ],
            "metadata": {
                "azdata_cell_guid": "5d432bc7-3977-418d-89d3-971002eef117"
            },
            "attachments": {}
        },
        {
            "cell_type": "code",
            "source": [
                "RESTORE DATABASE [soundlib]\r\n",
                "FROM DISK = N'C:\\Test_m106\\soundlib.bak'\r\n",
                ""
            ],
            "metadata": {
                "azdata_cell_guid": "3cec4f14-3c43-4de0-8617-e6308b2bdb0c",
                "language": "sql"
            },
            "outputs": [
                {
                    "output_type": "error",
                    "ename": "",
                    "evalue": "Msg 3169, Level 16, State 1, Line 1\r\nThe database was backed up on a server running version 16.00.1050. That version is incompatible with this server, which is running version 15.00.2000. Either restore the database on a server that supports the backup, or use a backup that is compatible with this server.",
                    "traceback": []
                },
                {
                    "output_type": "error",
                    "ename": "",
                    "evalue": "Msg 3013, Level 16, State 1, Line 1\r\nRESTORE DATABASE is terminating abnormally.",
                    "traceback": []
                },
                {
                    "output_type": "display_data",
                    "data": {
                        "text/html": "Total execution time: 00:00:00.019"
                    },
                    "metadata": {}
                }
            ],
            "execution_count": 2
        },
        {
            "cell_type": "code",
            "source": [
                ""
            ],
            "metadata": {
                "azdata_cell_guid": "c1aa32f0-b30f-404a-883c-e1847887d022",
                "language": "sql"
            },
            "outputs": [],
            "execution_count": null
        }
    ]
}